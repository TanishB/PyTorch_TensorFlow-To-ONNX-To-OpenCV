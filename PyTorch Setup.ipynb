{
 "cells": [
  {
   "attachments": {},
   "cell_type": "markdown",
   "metadata": {},
   "source": [
    "\n",
    "![PyTorch](https://venturebeat.com/wp-content/uploads/2019/06/pytorch-e1576624094357.jpg?w=1200&strip=all)\n",
    "\n",
    "An open source machine learning framework that accelerates the path from research prototyping to production deployment.\n",
    "\n",
    "<b><i>Before getting started to this project, it's essential to get this essential library working.</i></b>\n",
    "\n",
    "Let's get to the installation part!\n",
    "### Mac Users\n",
    "> 1. Pip - \n",
    "\n",
    "```\n",
    "pip install torch torchvision\n",
    "```\n",
    "> 2. Anaconda\n",
    "\n",
    "```\n",
    "conda install pytorch torchvision -c pytorch\n",
    "```\n",
    "\n",
    "### Linux Users\n",
    "> 1. Pip - \n",
    "\n",
    "```\n",
    "pip install torch==1.4.0+cpu torchvision==0.5.0+cpu -f https://download.pytorch.org/whl/torch_stable.html\n",
    "```\n",
    "> 2. Anaconda\n",
    "\n",
    "```\n",
    "conda install pytorch torchvision cpuonly -c pytorch\n",
    "```\n",
    "\n",
    "### Windows Users\n",
    "> 1. Pip - \n",
    "\n",
    "```\n",
    "pip install torch==1.4.0+cpu torchvision==0.5.0+cpu -f https://download.pytorch.org/whl/torch_stable.html\n",
    "```\n",
    "> 2. Anaconda\n",
    "\n",
    "```\n",
    "conda install pytorch torchvision cpuonly -c pytorch\n",
    "```\n",
    "\n",
    "\n",
    "\n",
    "<h3><a href=\"https://pytorch.org/get-started/locally/\" >Head to the PyTorch website for more details</a></h3>"
   ]
  }
 ],
 "metadata": {
  "kernelspec": {
   "display_name": "Python 3",
   "language": "python",
   "name": "python3"
  },
  "language_info": {
   "codemirror_mode": {
    "name": "ipython",
    "version": 3
   },
   "file_extension": ".py",
   "mimetype": "text/x-python",
   "name": "python",
   "nbconvert_exporter": "python",
   "pygments_lexer": "ipython3",
   "version": "3.7.3"
  }
 },
 "nbformat": 4,
 "nbformat_minor": 2
}
